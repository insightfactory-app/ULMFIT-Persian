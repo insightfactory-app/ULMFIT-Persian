{
  "nbformat": 4,
  "nbformat_minor": 0,
  "metadata": {
    "colab": {
      "name": "Fast.ai build persian pretrained model.ipynb",
      "provenance": [],
      "collapsed_sections": [
        "6pfQbqxaLAUN",
        "nVblTSpgoQfA"
      ],
      "machine_shape": "hm"
    },
    "kernelspec": {
      "name": "python3",
      "display_name": "Python 3"
    },
    "accelerator": "GPU"
  },
  "cells": [
    {
      "cell_type": "markdown",
      "metadata": {
        "id": "6pfQbqxaLAUN",
        "colab_type": "text"
      },
      "source": [
        "#Download data from Wikipedia"
      ]
    },
    {
      "cell_type": "code",
      "metadata": {
        "id": "bOiobc0nidT3",
        "colab_type": "code",
        "outputId": "6a205bfe-7581-4ad5-c217-f5f6c9be09ca",
        "colab": {
          "base_uri": "https://localhost:8080/",
          "height": 202
        }
      },
      "source": [
        "!wget https://wikimedia.mirror.us.dev/fawiki/20200301/fawiki-20200301-pages-articles-multistream.xml.bz2"
      ],
      "execution_count": 0,
      "outputs": [
        {
          "output_type": "stream",
          "text": [
            "--2020-03-28 15:32:52--  https://wikimedia.mirror.us.dev/fawiki/20200301/fawiki-20200301-pages-articles-multistream.xml.bz2\n",
            "Resolving wikimedia.mirror.us.dev (wikimedia.mirror.us.dev)... 96.90.175.164, 2603:300b:901:bb00:feed::1\n",
            "Connecting to wikimedia.mirror.us.dev (wikimedia.mirror.us.dev)|96.90.175.164|:443... connected.\n",
            "HTTP request sent, awaiting response... 200 OK\n",
            "Length: 807361413 (770M) [application/octet-stream]\n",
            "Saving to: ‘fawiki-20200301-pages-articles-multistream.xml.bz2’\n",
            "\n",
            "fawiki-20200301-pag 100%[===================>] 769.96M  2.85MB/s    in 4m 44s  \n",
            "\n",
            "2020-03-28 15:37:38 (2.71 MB/s) - ‘fawiki-20200301-pages-articles-multistream.xml.bz2’ saved [807361413/807361413]\n",
            "\n"
          ],
          "name": "stdout"
        }
      ]
    },
    {
      "cell_type": "code",
      "metadata": {
        "id": "bNDdaeQFjLVM",
        "colab_type": "code",
        "colab": {}
      },
      "source": [
        "!bzip2 -d \"fawiki-20200301-pages-articles-multistream.xml.bz2\"\n"
      ],
      "execution_count": 0,
      "outputs": []
    },
    {
      "cell_type": "code",
      "metadata": {
        "id": "L-IpemQmlQvI",
        "colab_type": "code",
        "outputId": "f19a9a86-36a0-4ed6-edec-aedae8f4f021",
        "colab": {
          "base_uri": "https://localhost:8080/",
          "height": 50
        }
      },
      "source": [
        "!ls"
      ],
      "execution_count": 0,
      "outputs": [
        {
          "output_type": "stream",
          "text": [
            "fawiki-20200301-pages-articles-multistream.csv\tsample_data\n",
            "fawiki-20200301-pages-articles-multistream.xml\n"
          ],
          "name": "stdout"
        }
      ]
    },
    {
      "cell_type": "code",
      "metadata": {
        "id": "gOKSvqzXhDyu",
        "colab_type": "code",
        "outputId": "2aee5da1-5ae1-4aac-bfc1-081098851eda",
        "colab": {
          "base_uri": "https://localhost:8080/",
          "height": 134
        }
      },
      "source": [
        "!git clone https://github.com/attardi/wikiextractor.git"
      ],
      "execution_count": 0,
      "outputs": [
        {
          "output_type": "stream",
          "text": [
            "Cloning into 'wikiextractor'...\n",
            "remote: Enumerating objects: 6, done.\u001b[K\n",
            "remote: Counting objects:  16% (1/6)\u001b[K\rremote: Counting objects:  33% (2/6)\u001b[K\rremote: Counting objects:  50% (3/6)\u001b[K\rremote: Counting objects:  66% (4/6)\u001b[K\rremote: Counting objects:  83% (5/6)\u001b[K\rremote: Counting objects: 100% (6/6)\u001b[K\rremote: Counting objects: 100% (6/6), done.\u001b[K\n",
            "remote: Compressing objects:  16% (1/6)\u001b[K\rremote: Compressing objects:  33% (2/6)\u001b[K\rremote: Compressing objects:  50% (3/6)\u001b[K\rremote: Compressing objects:  66% (4/6)\u001b[K\rremote: Compressing objects:  83% (5/6)\u001b[K\rremote: Compressing objects: 100% (6/6)\u001b[K\rremote: Compressing objects: 100% (6/6), done.\u001b[K\n",
            "Receiving objects:   0% (1/613)   \rReceiving objects:   1% (7/613)   \rReceiving objects:   2% (13/613)   \rReceiving objects:   3% (19/613)   \rReceiving objects:   4% (25/613)   \rReceiving objects:   5% (31/613)   \rReceiving objects:   6% (37/613)   \rReceiving objects:   7% (43/613)   \rReceiving objects:   8% (50/613)   \rReceiving objects:   9% (56/613)   \rReceiving objects:  10% (62/613)   \rReceiving objects:  11% (68/613)   \rReceiving objects:  12% (74/613)   \rReceiving objects:  13% (80/613)   \rReceiving objects:  14% (86/613)   \rReceiving objects:  15% (92/613)   \rReceiving objects:  16% (99/613)   \rReceiving objects:  17% (105/613)   \rReceiving objects:  18% (111/613)   \rReceiving objects:  19% (117/613)   \rReceiving objects:  20% (123/613)   \rReceiving objects:  21% (129/613)   \rReceiving objects:  22% (135/613)   \rReceiving objects:  23% (141/613)   \rReceiving objects:  24% (148/613)   \rReceiving objects:  25% (154/613)   \rReceiving objects:  26% (160/613)   \rReceiving objects:  27% (166/613)   \rReceiving objects:  28% (172/613)   \rReceiving objects:  29% (178/613)   \rReceiving objects:  30% (184/613)   \rReceiving objects:  31% (191/613)   \rReceiving objects:  32% (197/613), 228.01 KiB | 431.00 KiB/s   \rReceiving objects:  33% (203/613), 228.01 KiB | 431.00 KiB/s   \rReceiving objects:  34% (209/613), 228.01 KiB | 431.00 KiB/s   \rReceiving objects:  35% (215/613), 228.01 KiB | 431.00 KiB/s   \rReceiving objects:  36% (221/613), 228.01 KiB | 431.00 KiB/s   \rReceiving objects:  37% (227/613), 228.01 KiB | 431.00 KiB/s   \rReceiving objects:  38% (233/613), 228.01 KiB | 431.00 KiB/s   \rReceiving objects:  39% (240/613), 228.01 KiB | 431.00 KiB/s   \rReceiving objects:  40% (246/613), 228.01 KiB | 431.00 KiB/s   \rReceiving objects:  41% (252/613), 228.01 KiB | 431.00 KiB/s   \rReceiving objects:  42% (258/613), 228.01 KiB | 431.00 KiB/s   \rReceiving objects:  43% (264/613), 228.01 KiB | 431.00 KiB/s   \rReceiving objects:  44% (270/613), 228.01 KiB | 431.00 KiB/s   \rReceiving objects:  45% (276/613), 228.01 KiB | 431.00 KiB/s   \rReceiving objects:  46% (282/613), 228.01 KiB | 431.00 KiB/s   \rReceiving objects:  47% (289/613), 228.01 KiB | 431.00 KiB/s   \rReceiving objects:  48% (295/613), 228.01 KiB | 431.00 KiB/s   \rReceiving objects:  49% (301/613), 228.01 KiB | 431.00 KiB/s   \rReceiving objects:  50% (307/613), 228.01 KiB | 431.00 KiB/s   \rReceiving objects:  51% (313/613), 228.01 KiB | 431.00 KiB/s   \rReceiving objects:  52% (319/613), 228.01 KiB | 431.00 KiB/s   \rReceiving objects:  53% (325/613), 228.01 KiB | 431.00 KiB/s   \rReceiving objects:  54% (332/613), 228.01 KiB | 431.00 KiB/s   \rReceiving objects:  55% (338/613), 228.01 KiB | 431.00 KiB/s   \rReceiving objects:  56% (344/613), 228.01 KiB | 431.00 KiB/s   \rReceiving objects:  57% (350/613), 228.01 KiB | 431.00 KiB/s   \rReceiving objects:  58% (356/613), 228.01 KiB | 431.00 KiB/s   \rReceiving objects:  59% (362/613), 228.01 KiB | 431.00 KiB/s   \rReceiving objects:  60% (368/613), 228.01 KiB | 431.00 KiB/s   \rReceiving objects:  61% (374/613), 228.01 KiB | 431.00 KiB/s   \rReceiving objects:  62% (381/613), 228.01 KiB | 431.00 KiB/s   \rReceiving objects:  63% (387/613), 228.01 KiB | 431.00 KiB/s   \rReceiving objects:  64% (393/613), 228.01 KiB | 431.00 KiB/s   \rReceiving objects:  65% (399/613), 228.01 KiB | 431.00 KiB/s   \rReceiving objects:  66% (405/613), 228.01 KiB | 431.00 KiB/s   \rReceiving objects:  67% (411/613), 228.01 KiB | 431.00 KiB/s   \rReceiving objects:  68% (417/613), 228.01 KiB | 431.00 KiB/s   \rReceiving objects:  69% (423/613), 228.01 KiB | 431.00 KiB/s   \rReceiving objects:  70% (430/613), 228.01 KiB | 431.00 KiB/s   \rReceiving objects:  71% (436/613), 228.01 KiB | 431.00 KiB/s   \rReceiving objects:  72% (442/613), 228.01 KiB | 431.00 KiB/s   \rReceiving objects:  73% (448/613), 228.01 KiB | 431.00 KiB/s   \rReceiving objects:  74% (454/613), 228.01 KiB | 431.00 KiB/s   \rReceiving objects:  75% (460/613), 228.01 KiB | 431.00 KiB/s   \rReceiving objects:  76% (466/613), 228.01 KiB | 431.00 KiB/s   \rReceiving objects:  77% (473/613), 228.01 KiB | 431.00 KiB/s   \rReceiving objects:  78% (479/613), 228.01 KiB | 431.00 KiB/s   \rReceiving objects:  79% (485/613), 228.01 KiB | 431.00 KiB/s   \rReceiving objects:  80% (491/613), 228.01 KiB | 431.00 KiB/s   \rReceiving objects:  81% (497/613), 228.01 KiB | 431.00 KiB/s   \rReceiving objects:  82% (503/613), 228.01 KiB | 431.00 KiB/s   \rReceiving objects:  83% (509/613), 228.01 KiB | 431.00 KiB/s   \rReceiving objects:  84% (515/613), 228.01 KiB | 431.00 KiB/s   \rReceiving objects:  85% (522/613), 228.01 KiB | 431.00 KiB/s   \rReceiving objects:  86% (528/613), 228.01 KiB | 431.00 KiB/s   \rReceiving objects:  87% (534/613), 228.01 KiB | 431.00 KiB/s   \rReceiving objects:  88% (540/613), 228.01 KiB | 431.00 KiB/s   \rReceiving objects:  89% (546/613), 228.01 KiB | 431.00 KiB/s   \rReceiving objects:  90% (552/613), 228.01 KiB | 431.00 KiB/s   \rReceiving objects:  91% (558/613), 228.01 KiB | 431.00 KiB/s   \rReceiving objects:  92% (564/613), 228.01 KiB | 431.00 KiB/s   \rremote: Total 613 (delta 2), reused 2 (delta 0), pack-reused 607\u001b[K\n",
            "Receiving objects:  93% (571/613), 228.01 KiB | 431.00 KiB/s   \rReceiving objects:  94% (577/613), 228.01 KiB | 431.00 KiB/s   \rReceiving objects:  95% (583/613), 228.01 KiB | 431.00 KiB/s   \rReceiving objects:  96% (589/613), 228.01 KiB | 431.00 KiB/s   \rReceiving objects:  97% (595/613), 228.01 KiB | 431.00 KiB/s   \rReceiving objects:  98% (601/613), 228.01 KiB | 431.00 KiB/s   \rReceiving objects:  99% (607/613), 228.01 KiB | 431.00 KiB/s   \rReceiving objects: 100% (613/613), 228.01 KiB | 431.00 KiB/s   \rReceiving objects: 100% (613/613), 1.26 MiB | 1.42 MiB/s, done.\n",
            "Resolving deltas:   0% (0/350)   \rResolving deltas:   2% (8/350)   \rResolving deltas:  20% (71/350)   \rResolving deltas:  25% (90/350)   \rResolving deltas:  43% (153/350)   \rResolving deltas:  44% (155/350)   \rResolving deltas:  45% (158/350)   \rResolving deltas:  46% (161/350)   \rResolving deltas:  55% (194/350)   \rResolving deltas:  62% (218/350)   \rResolving deltas:  65% (229/350)   \rResolving deltas:  68% (238/350)   \rResolving deltas:  70% (245/350)   \rResolving deltas:  72% (253/350)   \rResolving deltas:  75% (265/350)   \rResolving deltas:  76% (267/350)   \rResolving deltas:  84% (295/350)   \rResolving deltas:  87% (305/350)   \rResolving deltas:  88% (308/350)   \rResolving deltas:  89% (312/350)   \rResolving deltas:  90% (315/350)   \rResolving deltas:  91% (319/350)   \rResolving deltas:  92% (322/350)   \rResolving deltas: 100% (350/350)   \rResolving deltas: 100% (350/350), done.\n"
          ],
          "name": "stdout"
        }
      ]
    },
    {
      "cell_type": "code",
      "metadata": {
        "id": "0AP0BhJOkTDl",
        "colab_type": "code",
        "colab": {}
      },
      "source": [
        "!python3 wikiextractor/WikiExtractor.py -s --json --no_templates -q fawiki-20200301-pages-articles-multistream.xml"
      ],
      "execution_count": 0,
      "outputs": []
    },
    {
      "cell_type": "code",
      "metadata": {
        "id": "0PJz3Tny4zmA",
        "colab_type": "code",
        "colab": {}
      },
      "source": [
        "datasetpath =  Path('/content/')\n",
        "\n",
        "LANG_FILENAMES = [str(f) for f in datasetpath.rglob(\"text/*/*\")]\n"
      ],
      "execution_count": 0,
      "outputs": []
    },
    {
      "cell_type": "code",
      "metadata": {
        "id": "Rsd9ezu2-fx8",
        "colab_type": "code",
        "outputId": "c87a03a1-d2f0-479e-da09-38776abb623c",
        "colab": {
          "base_uri": "https://localhost:8080/",
          "height": 118
        }
      },
      "source": [
        "len(LANG_FILENAMES), LANG_FILENAMES[:5]\n"
      ],
      "execution_count": 0,
      "outputs": [
        {
          "output_type": "execute_result",
          "data": {
            "text/plain": [
              "(867,\n",
              " ['/content/text/AG/wiki_81',\n",
              "  '/content/text/AG/wiki_89',\n",
              "  '/content/text/AG/wiki_49',\n",
              "  '/content/text/AG/wiki_46',\n",
              "  '/content/text/AG/wiki_19'])"
            ]
          },
          "metadata": {
            "tags": []
          },
          "execution_count": 15
        }
      ]
    },
    {
      "cell_type": "code",
      "metadata": {
        "id": "DH3QYxVY-sk_",
        "colab_type": "code",
        "outputId": "762d3ce1-5e4d-4b3c-8a2d-f58624fe7b20",
        "colab": {
          "base_uri": "https://localhost:8080/",
          "height": 50
        }
      },
      "source": [
        "ls /content"
      ],
      "execution_count": 0,
      "outputs": [
        {
          "output_type": "stream",
          "text": [
            "fawiki-20200301-pages-articles-multistream.xml  \u001b[0m\u001b[01;34mtext\u001b[0m/\n",
            "\u001b[01;34msample_data\u001b[0m/                                    \u001b[01;34mwikiextractor\u001b[0m/\n"
          ],
          "name": "stdout"
        }
      ]
    },
    {
      "cell_type": "code",
      "metadata": {
        "id": "wnAdMuf_-xQk",
        "colab_type": "code",
        "colab": {}
      },
      "source": [
        "LANG_TEXT = []\n",
        "for fn in LANG_FILENAMES:\n",
        "    for line in open(fn, encoding='utf8'):\n",
        "        LANG_TEXT.append(json.loads(line))\n",
        "        \n",
        "LANG_TEXT = pd.DataFrame(LANG_TEXT)"
      ],
      "execution_count": 0,
      "outputs": []
    },
    {
      "cell_type": "code",
      "metadata": {
        "id": "nXaNQ6STCKJJ",
        "colab_type": "code",
        "outputId": "a3f10d72-700e-4657-ebb5-8fd0891263c8",
        "colab": {
          "base_uri": "https://localhost:8080/",
          "height": 195
        }
      },
      "source": [
        "LANG_TEXT.head()"
      ],
      "execution_count": 0,
      "outputs": [
        {
          "output_type": "execute_result",
          "data": {
            "text/html": [
              "<div>\n",
              "<style scoped>\n",
              "    .dataframe tbody tr th:only-of-type {\n",
              "        vertical-align: middle;\n",
              "    }\n",
              "\n",
              "    .dataframe tbody tr th {\n",
              "        vertical-align: top;\n",
              "    }\n",
              "\n",
              "    .dataframe thead th {\n",
              "        text-align: right;\n",
              "    }\n",
              "</style>\n",
              "<table border=\"1\" class=\"dataframe\">\n",
              "  <thead>\n",
              "    <tr style=\"text-align: right;\">\n",
              "      <th></th>\n",
              "      <th>id</th>\n",
              "      <th>url</th>\n",
              "      <th>title</th>\n",
              "      <th>text</th>\n",
              "      <th>length</th>\n",
              "    </tr>\n",
              "  </thead>\n",
              "  <tbody>\n",
              "    <tr>\n",
              "      <th>0</th>\n",
              "      <td>3835814</td>\n",
              "      <td>https://fa.wikipedia.org/wiki?curid=3835814</td>\n",
              "      <td>دستینی (دی‌سی کامیکس)</td>\n",
              "      <td>دستینی (دی‌سی کامیکس)\\n\\nدِستینی یک شخصیت خیال...</td>\n",
              "      <td>1033</td>\n",
              "    </tr>\n",
              "    <tr>\n",
              "      <th>1</th>\n",
              "      <td>3835815</td>\n",
              "      <td>https://fa.wikipedia.org/wiki?curid=3835815</td>\n",
              "      <td>مایکل استون‌براکر</td>\n",
              "      <td>مایکل استون‌براکر\\n\\nمیکائیل استون‌براکر یک دا...</td>\n",
              "      <td>883</td>\n",
              "    </tr>\n",
              "    <tr>\n",
              "      <th>2</th>\n",
              "      <td>3835822</td>\n",
              "      <td>https://fa.wikipedia.org/wiki?curid=3835822</td>\n",
              "      <td>میرزا عبدالقادر پاوه‌ای</td>\n",
              "      <td>میرزا عبدالقادر پاوه‌ای\\n\\nمیرزا عبدالقادر پاو...</td>\n",
              "      <td>577</td>\n",
              "    </tr>\n",
              "    <tr>\n",
              "      <th>3</th>\n",
              "      <td>3835984</td>\n",
              "      <td>https://fa.wikipedia.org/wiki?curid=3835984</td>\n",
              "      <td>پتر هوگل</td>\n",
              "      <td>پتر هوگل\\n\\nپتر هوگل (زادهٔ ۱۹ اوت ۱۸۹۷- مرگ ۲...</td>\n",
              "      <td>699</td>\n",
              "    </tr>\n",
              "    <tr>\n",
              "      <th>4</th>\n",
              "      <td>3835985</td>\n",
              "      <td>https://fa.wikipedia.org/wiki?curid=3835985</td>\n",
              "      <td>ریل باس</td>\n",
              "      <td>ریل باس\\n\\nریل باس نوعی قطار مسافری خودکشش می‌...</td>\n",
              "      <td>603</td>\n",
              "    </tr>\n",
              "  </tbody>\n",
              "</table>\n",
              "</div>"
            ],
            "text/plain": [
              "        id  ... length\n",
              "0  3835814  ...   1033\n",
              "1  3835815  ...    883\n",
              "2  3835822  ...    577\n",
              "3  3835984  ...    699\n",
              "4  3835985  ...    603\n",
              "\n",
              "[5 rows x 5 columns]"
            ]
          },
          "metadata": {
            "tags": []
          },
          "execution_count": 26
        }
      ]
    },
    {
      "cell_type": "code",
      "metadata": {
        "id": "ZSUHcmZ-CdJp",
        "colab_type": "code",
        "colab": {}
      },
      "source": [
        "LANG_TEXT.to_pickle(\"wikipedia_persian.pckl\")"
      ],
      "execution_count": 0,
      "outputs": []
    },
    {
      "cell_type": "markdown",
      "metadata": {
        "id": "EGsDEZ5_LJZH",
        "colab_type": "text"
      },
      "source": [
        "#model building time"
      ]
    },
    {
      "cell_type": "code",
      "metadata": {
        "id": "Y-FPAqG9CrEb",
        "colab_type": "code",
        "outputId": "c1ca0b61-0194-457a-e5be-f1bc0ca19c56",
        "colab": {
          "base_uri": "https://localhost:8080/",
          "height": 121
        }
      },
      "source": [
        "from google.colab import drive\n",
        "drive.mount('/content/gdrive')"
      ],
      "execution_count": 0,
      "outputs": [
        {
          "output_type": "stream",
          "text": [
            "Go to this URL in a browser: https://accounts.google.com/o/oauth2/auth?client_id=947318989803-6bn6qk8qdgf4n4g3pfee6491hc0brc4i.apps.googleusercontent.com&redirect_uri=urn%3aietf%3awg%3aoauth%3a2.0%3aoob&response_type=code&scope=email%20https%3a%2f%2fwww.googleapis.com%2fauth%2fdocs.test%20https%3a%2f%2fwww.googleapis.com%2fauth%2fdrive%20https%3a%2f%2fwww.googleapis.com%2fauth%2fdrive.photos.readonly%20https%3a%2f%2fwww.googleapis.com%2fauth%2fpeopleapi.readonly\n",
            "\n",
            "Enter your authorization code:\n",
            "··········\n",
            "Mounted at /content/gdrive\n"
          ],
          "name": "stdout"
        }
      ]
    },
    {
      "cell_type": "code",
      "metadata": {
        "id": "UTJ70G_Xuyae",
        "colab_type": "code",
        "colab": {}
      },
      "source": [
        "!cp '/content/gdrive/My Drive/InsightfactoryPlayground/wikipedia_persian.pckl' wikipedia_persian.pckl\n"
      ],
      "execution_count": 0,
      "outputs": []
    },
    {
      "cell_type": "code",
      "metadata": {
        "id": "BLkKEDn9M-bg",
        "colab_type": "code",
        "colab": {}
      },
      "source": [
        "!cp  '/content/gdrive/My Drive/InsightfactoryPlayground/wikipedia_data_lm.pkl' data_lm.pkl"
      ],
      "execution_count": 0,
      "outputs": []
    },
    {
      "cell_type": "code",
      "metadata": {
        "id": "L47jSaN3-RVx",
        "colab_type": "code",
        "colab": {}
      },
      "source": [
        "from fastai.text import *\n",
        "import html\n",
        "from matplotlib import pyplot\n",
        "import numpy\n",
        "import time\n",
        "import pandas as pd"
      ],
      "execution_count": 0,
      "outputs": []
    },
    {
      "cell_type": "markdown",
      "metadata": {
        "id": "nVblTSpgoQfA",
        "colab_type": "text"
      },
      "source": [
        "#Creating TextList\n"
      ]
    },
    {
      "cell_type": "code",
      "metadata": {
        "id": "IR76jBuUNZQI",
        "colab_type": "code",
        "colab": {}
      },
      "source": [
        "LANG_TEXT = pd.read_pickle(\"wikipedia_persian.pckl\")"
      ],
      "execution_count": 0,
      "outputs": []
    },
    {
      "cell_type": "code",
      "metadata": {
        "id": "t4hTKIuiCj5O",
        "colab_type": "code",
        "outputId": "e7eb8b79-f35e-43ac-e39d-c9db2dd6c19d",
        "colab": {
          "base_uri": "https://localhost:8080/",
          "height": 84
        }
      },
      "source": [
        "!ls -lrt --block-size=M"
      ],
      "execution_count": 0,
      "outputs": [
        {
          "output_type": "stream",
          "text": [
            "total 834M\n",
            "drwxr-xr-x 1 root root   1M Mar 18 16:23 sample_data\n",
            "drwx------ 4 root root   1M Mar 29 09:51 gdrive\n",
            "-rw------- 1 root root 834M Mar 29 09:53 wikipedia_persian.pckl\n"
          ],
          "name": "stdout"
        }
      ]
    },
    {
      "cell_type": "code",
      "metadata": {
        "id": "fTKeWqHkDGnJ",
        "colab_type": "code",
        "outputId": "dcc7dfb4-74fc-4b05-a813-5431194db4e4",
        "colab": {
          "base_uri": "https://localhost:8080/",
          "height": 34
        }
      },
      "source": [
        "LANG_TEXT.shape"
      ],
      "execution_count": 0,
      "outputs": [
        {
          "output_type": "execute_result",
          "data": {
            "text/plain": [
              "(712163, 4)"
            ]
          },
          "metadata": {
            "tags": []
          },
          "execution_count": 6
        }
      ]
    },
    {
      "cell_type": "code",
      "metadata": {
        "id": "h5Zw9LCyEDSd",
        "colab_type": "code",
        "colab": {}
      },
      "source": [
        "def split_title_from_text(text):\n",
        "    words = text.split(\"\\n\\n\", 1)\n",
        "    if len(words) == 2:\n",
        "        return words[1]\n",
        "    else:\n",
        "        return words[0]\n",
        "    \n",
        "LANG_TEXT['text'] = LANG_TEXT['text'].apply(lambda x: split_title_from_text(x))"
      ],
      "execution_count": 0,
      "outputs": []
    },
    {
      "cell_type": "code",
      "metadata": {
        "id": "rfEgBWixDgta",
        "colab_type": "code",
        "colab": {}
      },
      "source": [
        "LANG_TEXT['length'] = LANG_TEXT['text'].str.len()\n"
      ],
      "execution_count": 0,
      "outputs": []
    },
    {
      "cell_type": "code",
      "metadata": {
        "id": "5AJygx4jDljW",
        "colab_type": "code",
        "outputId": "672ea956-956a-4092-fa0e-264e742f40ee",
        "colab": {
          "base_uri": "https://localhost:8080/",
          "height": 50
        }
      },
      "source": [
        "\n",
        "percentages = range(0,110,10)\n",
        "print ('Article length percentiles' , ', '.join(['{}%: {}'.format(p, int(q))  for p,q in zip(percentages, numpy.percentile(LANG_TEXT['length'], percentages))]))\n",
        "print ('Number of articles', len(LANG_TEXT))"
      ],
      "execution_count": 0,
      "outputs": [
        {
          "output_type": "stream",
          "text": [
            "Article length percentiles 0%: 0, 10%: 62, 20%: 94, 30%: 121, 40%: 154, 50%: 191, 60%: 221, 70%: 267, 80%: 488, 90%: 1190, 100%: 109795\n",
            "Number of articles 712163\n"
          ],
          "name": "stdout"
        }
      ]
    },
    {
      "cell_type": "code",
      "metadata": {
        "id": "eqW6mLn9Duxr",
        "colab_type": "code",
        "colab": {}
      },
      "source": [
        "LANG_TEXT = LANG_TEXT[LANG_TEXT.length> 200]"
      ],
      "execution_count": 0,
      "outputs": []
    },
    {
      "cell_type": "code",
      "metadata": {
        "id": "devzT8GvEwi1",
        "colab_type": "code",
        "colab": {}
      },
      "source": [
        "LANG_TEXT.to_csv(\"wikipedia_persian.csv\")"
      ],
      "execution_count": 0,
      "outputs": []
    },
    {
      "cell_type": "code",
      "metadata": {
        "id": "s36x5-aaFu4P",
        "colab_type": "code",
        "outputId": "11d81b03-7b3c-4e16-db6b-64170d50f84e",
        "colab": {
          "base_uri": "https://localhost:8080/",
          "height": 34
        }
      },
      "source": [
        "del LANG_TEXT\n",
        "import gc\n",
        "gc.collect()"
      ],
      "execution_count": 0,
      "outputs": [
        {
          "output_type": "execute_result",
          "data": {
            "text/plain": [
              "220"
            ]
          },
          "metadata": {
            "tags": []
          },
          "execution_count": 12
        }
      ]
    },
    {
      "cell_type": "code",
      "metadata": {
        "id": "LgI8WBsHFquw",
        "colab_type": "code",
        "outputId": "239c9748-f665-44cf-a3e2-40f504df4733",
        "colab": {
          "base_uri": "https://localhost:8080/",
          "height": 17
        }
      },
      "source": [
        "data_lm = TextList.from_csv(\".\", \"wikipedia_persian.csv\",cols=\"text\").split_by_rand_pct(0.1).label_for_lm().databunch(bs=32)"
      ],
      "execution_count": 0,
      "outputs": [
        {
          "output_type": "display_data",
          "data": {
            "text/html": [
              ""
            ],
            "text/plain": [
              "<IPython.core.display.HTML object>"
            ]
          },
          "metadata": {
            "tags": []
          }
        },
        {
          "output_type": "display_data",
          "data": {
            "text/html": [
              ""
            ],
            "text/plain": [
              "<IPython.core.display.HTML object>"
            ]
          },
          "metadata": {
            "tags": []
          }
        }
      ]
    },
    {
      "cell_type": "code",
      "metadata": {
        "id": "V50nmNLjJasv",
        "colab_type": "code",
        "colab": {}
      },
      "source": [
        "data_lm.save('data_lm.pkl')\n"
      ],
      "execution_count": 0,
      "outputs": []
    },
    {
      "cell_type": "code",
      "metadata": {
        "id": "njasZpHURZOn",
        "colab_type": "code",
        "colab": {}
      },
      "source": [
        "!cp data_lm.pkl '/content/gdrive/My Drive/InsightfactoryPlayground/wikipedia_data_lm.pkl' \n"
      ],
      "execution_count": 0,
      "outputs": []
    },
    {
      "cell_type": "code",
      "metadata": {
        "id": "68VuDzfm0Bug",
        "colab_type": "code",
        "outputId": "6c5fe953-b0cb-40cc-a099-968225b40889",
        "colab": {
          "base_uri": "https://localhost:8080/",
          "height": 84
        }
      },
      "source": [
        "!pip freeze | grep torch"
      ],
      "execution_count": 0,
      "outputs": [
        {
          "output_type": "stream",
          "text": [
            "torch==1.4.0\n",
            "torchsummary==1.5.1\n",
            "torchtext==0.3.1\n",
            "torchvision==0.5.0\n"
          ],
          "name": "stdout"
        }
      ]
    },
    {
      "cell_type": "markdown",
      "metadata": {
        "id": "LX4SaeUioaRT",
        "colab_type": "text"
      },
      "source": [
        "#Train time"
      ]
    },
    {
      "cell_type": "code",
      "metadata": {
        "id": "Qq6WQhzqouJ1",
        "colab_type": "code",
        "colab": {}
      },
      "source": [
        "batch_size = 128"
      ],
      "execution_count": 0,
      "outputs": []
    },
    {
      "cell_type": "code",
      "metadata": {
        "id": "WdhihOwIoAh4",
        "colab_type": "code",
        "colab": {}
      },
      "source": [
        "data_lm = load_data(\".\", \"data_lm.pkl\",bs=batch_size)"
      ],
      "execution_count": 0,
      "outputs": []
    },
    {
      "cell_type": "code",
      "metadata": {
        "id": "oV_hMYz8RfT8",
        "colab_type": "code",
        "outputId": "802388f1-502a-4634-dd9c-3f9f5327edef",
        "colab": {
          "base_uri": "https://localhost:8080/",
          "height": 34
        }
      },
      "source": [
        "learn = language_model_learner(data_lm, AWD_LSTM, drop_mult=0.3)\n"
      ],
      "execution_count": 0,
      "outputs": [
        {
          "output_type": "stream",
          "text": [
            "Downloading https://s3.amazonaws.com/fast-ai-modelzoo/wt103-fwd\n"
          ],
          "name": "stdout"
        },
        {
          "output_type": "display_data",
          "data": {
            "text/html": [
              ""
            ],
            "text/plain": [
              "<IPython.core.display.HTML object>"
            ]
          },
          "metadata": {
            "tags": []
          }
        }
      ]
    },
    {
      "cell_type": "code",
      "metadata": {
        "id": "ojTtgeOTRlWi",
        "colab_type": "code",
        "outputId": "9f0a4072-2c36-469d-f5c9-bec09eedf8d7",
        "colab": {
          "base_uri": "https://localhost:8080/",
          "height": 112
        }
      },
      "source": [
        "learn.lr_find()\n"
      ],
      "execution_count": 0,
      "outputs": [
        {
          "output_type": "display_data",
          "data": {
            "text/html": [
              "\n",
              "    <div>\n",
              "        <style>\n",
              "            /* Turns off some styling */\n",
              "            progress {\n",
              "                /* gets rid of default border in Firefox and Opera. */\n",
              "                border: none;\n",
              "                /* Needs to be in here for Safari polyfill so background images work as expected. */\n",
              "                background-size: auto;\n",
              "            }\n",
              "            .progress-bar-interrupted, .progress-bar-interrupted::-webkit-progress-bar {\n",
              "                background: #F44336;\n",
              "            }\n",
              "        </style>\n",
              "      <progress value='0' class='' max='1', style='width:300px; height:20px; vertical-align: middle;'></progress>\n",
              "      0.00% [0/1 00:00<00:00]\n",
              "    </div>\n",
              "    \n",
              "<table border=\"1\" class=\"dataframe\">\n",
              "  <thead>\n",
              "    <tr style=\"text-align: left;\">\n",
              "      <th>epoch</th>\n",
              "      <th>train_loss</th>\n",
              "      <th>valid_loss</th>\n",
              "      <th>accuracy</th>\n",
              "      <th>time</th>\n",
              "    </tr>\n",
              "  </thead>\n",
              "  <tbody>\n",
              "  </tbody>\n",
              "</table><p>\n",
              "\n",
              "    <div>\n",
              "        <style>\n",
              "            /* Turns off some styling */\n",
              "            progress {\n",
              "                /* gets rid of default border in Firefox and Opera. */\n",
              "                border: none;\n",
              "                /* Needs to be in here for Safari polyfill so background images work as expected. */\n",
              "                background-size: auto;\n",
              "            }\n",
              "            .progress-bar-interrupted, .progress-bar-interrupted::-webkit-progress-bar {\n",
              "                background: #F44336;\n",
              "            }\n",
              "        </style>\n",
              "      <progress value='99' class='' max='35380', style='width:300px; height:20px; vertical-align: middle;'></progress>\n",
              "      0.28% [99/35380 00:13<1:21:27 14.7120]\n",
              "    </div>\n",
              "    "
            ],
            "text/plain": [
              "<IPython.core.display.HTML object>"
            ]
          },
          "metadata": {
            "tags": []
          }
        },
        {
          "output_type": "stream",
          "text": [
            "LR Finder is complete, type {learner_name}.recorder.plot() to see the graph.\n"
          ],
          "name": "stdout"
        }
      ]
    },
    {
      "cell_type": "code",
      "metadata": {
        "id": "rojfGpeDR7CG",
        "colab_type": "code",
        "outputId": "dccf70bc-5510-4c7d-b2e0-53e761fa8f3f",
        "colab": {
          "base_uri": "https://localhost:8080/",
          "height": 281
        }
      },
      "source": [
        "learn.recorder.plot(skip_end=15)\n"
      ],
      "execution_count": 0,
      "outputs": [
        {
          "output_type": "display_data",
          "data": {
            "image/png": "[encoded data removed]",
            "text/plain": [
              "<Figure size 432x288 with 1 Axes>"
            ]
          },
          "metadata": {
            "tags": []
          }
        }
      ]
    },
    {
      "cell_type": "code",
      "metadata": {
        "id": "QrT3BYZdR9yy",
        "colab_type": "code",
        "outputId": "524d5a75-f351-4846-fec8-23c7f15cba96",
        "colab": {
          "base_uri": "https://localhost:8080/",
          "height": 77
        }
      },
      "source": [
        "learn.fit_one_cycle(1, max_lr=slice(1e-3,1e-1), moms=(0.8,0.7))\n"
      ],
      "execution_count": 0,
      "outputs": [
        {
          "output_type": "display_data",
          "data": {
            "text/html": [
              "<table border=\"1\" class=\"dataframe\">\n",
              "  <thead>\n",
              "    <tr style=\"text-align: left;\">\n",
              "      <th>epoch</th>\n",
              "      <th>train_loss</th>\n",
              "      <th>valid_loss</th>\n",
              "      <th>accuracy</th>\n",
              "      <th>time</th>\n",
              "    </tr>\n",
              "  </thead>\n",
              "  <tbody>\n",
              "    <tr>\n",
              "      <td>0</td>\n",
              "      <td>4.885179</td>\n",
              "      <td>4.679333</td>\n",
              "      <td>0.273516</td>\n",
              "      <td>1:03:46</td>\n",
              "    </tr>\n",
              "  </tbody>\n",
              "</table>"
            ],
            "text/plain": [
              "<IPython.core.display.HTML object>"
            ]
          },
          "metadata": {
            "tags": []
          }
        }
      ]
    },
    {
      "cell_type": "code",
      "metadata": {
        "id": "hWasxkor41pO",
        "colab_type": "code",
        "colab": {}
      },
      "source": [
        "learn.save(\"stage-1\")"
      ],
      "execution_count": 0,
      "outputs": []
    },
    {
      "cell_type": "code",
      "metadata": {
        "id": "BIgWh6jj5Dyr",
        "colab_type": "code",
        "colab": {}
      },
      "source": [
        "!cp models/stage-1.pth '/content/gdrive/My Drive/InsightfactoryPlayground/persian-wikipedia-stage-1.pth' "
      ],
      "execution_count": 0,
      "outputs": []
    },
    {
      "cell_type": "code",
      "metadata": {
        "id": "Ox7Nfs-56wvC",
        "colab_type": "code",
        "colab": {}
      },
      "source": [
        "learn.unfreeze()"
      ],
      "execution_count": 0,
      "outputs": []
    },
    {
      "cell_type": "code",
      "metadata": {
        "id": "xudZr3iQ61GE",
        "colab_type": "code",
        "outputId": "b271f4b4-f7df-472d-f737-cd0df936bd92",
        "colab": {
          "base_uri": "https://localhost:8080/",
          "height": 112
        }
      },
      "source": [
        "learn.lr_find()\n"
      ],
      "execution_count": 0,
      "outputs": [
        {
          "output_type": "display_data",
          "data": {
            "text/html": [
              "\n",
              "    <div>\n",
              "        <style>\n",
              "            /* Turns off some styling */\n",
              "            progress {\n",
              "                /* gets rid of default border in Firefox and Opera. */\n",
              "                border: none;\n",
              "                /* Needs to be in here for Safari polyfill so background images work as expected. */\n",
              "                background-size: auto;\n",
              "            }\n",
              "            .progress-bar-interrupted, .progress-bar-interrupted::-webkit-progress-bar {\n",
              "                background: #F44336;\n",
              "            }\n",
              "        </style>\n",
              "      <progress value='0' class='' max='1', style='width:300px; height:20px; vertical-align: middle;'></progress>\n",
              "      0.00% [0/1 00:00<00:00]\n",
              "    </div>\n",
              "    \n",
              "<table border=\"1\" class=\"dataframe\">\n",
              "  <thead>\n",
              "    <tr style=\"text-align: left;\">\n",
              "      <th>epoch</th>\n",
              "      <th>train_loss</th>\n",
              "      <th>valid_loss</th>\n",
              "      <th>accuracy</th>\n",
              "      <th>time</th>\n",
              "    </tr>\n",
              "  </thead>\n",
              "  <tbody>\n",
              "  </tbody>\n",
              "</table><p>\n",
              "\n",
              "    <div>\n",
              "        <style>\n",
              "            /* Turns off some styling */\n",
              "            progress {\n",
              "                /* gets rid of default border in Firefox and Opera. */\n",
              "                border: none;\n",
              "                /* Needs to be in here for Safari polyfill so background images work as expected. */\n",
              "                background-size: auto;\n",
              "            }\n",
              "            .progress-bar-interrupted, .progress-bar-interrupted::-webkit-progress-bar {\n",
              "                background: #F44336;\n",
              "            }\n",
              "        </style>\n",
              "      <progress value='99' class='' max='8845', style='width:300px; height:20px; vertical-align: middle;'></progress>\n",
              "      1.12% [99/8845 00:41<1:00:59 9.9394]\n",
              "    </div>\n",
              "    "
            ],
            "text/plain": [
              "<IPython.core.display.HTML object>"
            ]
          },
          "metadata": {
            "tags": []
          }
        },
        {
          "output_type": "stream",
          "text": [
            "LR Finder is complete, type {learner_name}.recorder.plot() to see the graph.\n"
          ],
          "name": "stdout"
        }
      ]
    },
    {
      "cell_type": "code",
      "metadata": {
        "id": "4yPUeZd668SK",
        "colab_type": "code",
        "outputId": "edd85168-5a9a-4e3b-9a61-48259ea870fe",
        "colab": {
          "base_uri": "https://localhost:8080/",
          "height": 279
        }
      },
      "source": [
        "learn.recorder.plot(skip_end=15)\n"
      ],
      "execution_count": 0,
      "outputs": [
        {
          "output_type": "display_data",
          "data": {
            "image/png": "[encoded data removed]",
            "text/plain": [
              "<Figure size 432x288 with 1 Axes>"
            ]
          },
          "metadata": {
            "tags": []
          }
        }
      ]
    },
    {
      "cell_type": "code",
      "metadata": {
        "id": "KQBC4GobSJGu",
        "colab_type": "code",
        "outputId": "d750f461-1f2d-4f69-a175-8c4d5b843be1",
        "colab": {
          "base_uri": "https://localhost:8080/",
          "height": 77
        }
      },
      "source": [
        "learn.fit_one_cycle(1, max_lr=slice(51e-3,1e-2), moms=(0.8,0.7))\n"
      ],
      "execution_count": 0,
      "outputs": [
        {
          "output_type": "display_data",
          "data": {
            "text/html": [
              "<table border=\"1\" class=\"dataframe\">\n",
              "  <thead>\n",
              "    <tr style=\"text-align: left;\">\n",
              "      <th>epoch</th>\n",
              "      <th>train_loss</th>\n",
              "      <th>valid_loss</th>\n",
              "      <th>accuracy</th>\n",
              "      <th>time</th>\n",
              "    </tr>\n",
              "  </thead>\n",
              "  <tbody>\n",
              "    <tr>\n",
              "      <td>0</td>\n",
              "      <td>4.020819</td>\n",
              "      <td>3.929113</td>\n",
              "      <td>0.336036</td>\n",
              "      <td>1:04:06</td>\n",
              "    </tr>\n",
              "  </tbody>\n",
              "</table>"
            ],
            "text/plain": [
              "<IPython.core.display.HTML object>"
            ]
          },
          "metadata": {
            "tags": []
          }
        }
      ]
    },
    {
      "cell_type": "code",
      "metadata": {
        "id": "ErsMr3AvVHrl",
        "colab_type": "code",
        "colab": {}
      },
      "source": [
        "learn.save('fit_head')\n"
      ],
      "execution_count": 0,
      "outputs": []
    },
    {
      "cell_type": "code",
      "metadata": {
        "id": "O9YPo539NcP9",
        "colab_type": "code",
        "colab": {}
      },
      "source": [
        "learn.save_encoder('fine_tuned_enc')\n"
      ],
      "execution_count": 0,
      "outputs": []
    },
    {
      "cell_type": "code",
      "metadata": {
        "id": "wED2KNkxNoX4",
        "colab_type": "code",
        "colab": {}
      },
      "source": [
        "!cp models/fit_head.pth '/content/gdrive/My Drive/InsightfactoryPlayground/persian-wikipedia-stage-1.pth' "
      ],
      "execution_count": 0,
      "outputs": []
    },
    {
      "cell_type": "code",
      "metadata": {
        "id": "d-fQmzrUOAFh",
        "colab_type": "code",
        "colab": {}
      },
      "source": [
        "!cp models/fine_tuned_enc.pth '/content/gdrive/My Drive/InsightfactoryPlayground/fine_tuned_enc.pth' "
      ],
      "execution_count": 0,
      "outputs": []
    },
    {
      "cell_type": "code",
      "metadata": {
        "id": "ustNGm51OGAj",
        "colab_type": "code",
        "outputId": "36fc46e0-005d-482b-a84b-7226e87ecda4",
        "colab": {
          "base_uri": "https://localhost:8080/",
          "height": 77
        }
      },
      "source": [
        "learn.fit_one_cycle(1, max_lr=slice(51e-3,1e-2), moms=(0.8,0.7))\n"
      ],
      "execution_count": 0,
      "outputs": [
        {
          "output_type": "display_data",
          "data": {
            "text/html": [
              "<table border=\"1\" class=\"dataframe\">\n",
              "  <thead>\n",
              "    <tr style=\"text-align: left;\">\n",
              "      <th>epoch</th>\n",
              "      <th>train_loss</th>\n",
              "      <th>valid_loss</th>\n",
              "      <th>accuracy</th>\n",
              "      <th>time</th>\n",
              "    </tr>\n",
              "  </thead>\n",
              "  <tbody>\n",
              "    <tr>\n",
              "      <td>0</td>\n",
              "      <td>4.032256</td>\n",
              "      <td>3.910661</td>\n",
              "      <td>0.337358</td>\n",
              "      <td>1:04:10</td>\n",
              "    </tr>\n",
              "  </tbody>\n",
              "</table>"
            ],
            "text/plain": [
              "<IPython.core.display.HTML object>"
            ]
          },
          "metadata": {
            "tags": []
          }
        }
      ]
    },
    {
      "cell_type": "code",
      "metadata": {
        "id": "CMQjYJzkqk3W",
        "colab_type": "code",
        "colab": {}
      },
      "source": [
        "learn.save('fit_head')\n",
        "learn.save_encoder('fine_tuned_enc')\n"
      ],
      "execution_count": 0,
      "outputs": []
    },
    {
      "cell_type": "code",
      "metadata": {
        "id": "i0FY7vSEqon6",
        "colab_type": "code",
        "colab": {}
      },
      "source": [
        "!cp models/fit_head.pth '/content/gdrive/My Drive/InsightfactoryPlayground/persian-wikipedia-stage-1.pth' \n",
        "!cp models/fine_tuned_enc.pth '/content/gdrive/My Drive/InsightfactoryPlayground/fine_tuned_enc.pth' "
      ],
      "execution_count": 0,
      "outputs": []
    },
    {
      "cell_type": "code",
      "metadata": {
        "id": "4AFZyNZEqrOd",
        "colab_type": "code",
        "colab": {}
      },
      "source": [
        ""
      ],
      "execution_count": 0,
      "outputs": []
    }
  ]
}